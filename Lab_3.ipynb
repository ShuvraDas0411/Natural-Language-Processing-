{
 "cells": [
  {
   "cell_type": "code",
   "execution_count": 1,
   "id": "3e15c8fd-7f4d-4274-9d18-1843a3115993",
   "metadata": {},
   "outputs": [],
   "source": [
    "import re"
   ]
  },
  {
   "cell_type": "code",
   "execution_count": 2,
   "id": "9473830b-ab2e-40d9-bc84-908b099a54b6",
   "metadata": {},
   "outputs": [
    {
     "name": "stdout",
     "output_type": "stream",
     "text": [
      "02/03/2021\n"
     ]
    }
   ],
   "source": [
    "def parse_date(text):\n",
    "    # Define regex patterns for matching dates\n",
    "    day_pattern = r'\\b(\\d{1,2})(?:st|nd|rd|th)?\\b'\n",
    "    month_pattern = r'\\b(January|February|March|April|May|June|July|August|September|October|November|December)\\b'\n",
    "    year_pattern = r'\\b(\\d{4})\\b'\n",
    "\n",
    "    # Define month mappings\n",
    "    months = {\n",
    "        'January': '01', 'February': '02', 'March': '03', 'April': '04',\n",
    "        'May': '05', 'June': '06', 'July': '07', 'August': '08',\n",
    "        'September': '09', 'October': '10', 'November': '11', 'December': '12'\n",
    "    }\n",
    "\n",
    "    # Search for date components in the text\n",
    "    day_match = re.search(day_pattern, text)\n",
    "    month_match = re.search(month_pattern, text)\n",
    "    year_match = re.search(year_pattern, text)\n",
    "\n",
    "    if not day_match or not month_match or not year_match:\n",
    "        return \"No date found\"\n",
    "\n",
    "    # Extract components\n",
    "    day = day_match.group(1).zfill(2)\n",
    "    month_name = month_match.group(1)\n",
    "    year = year_match.group(1)\n",
    "\n",
    "    # Convert month name to month number\n",
    "    month = months.get(month_name, '00')  # Default to '00' if month not found\n",
    "\n",
    "    # Format and return the date\n",
    "    return f\"{day}/{month}/{year}\"\n",
    "\n",
    "# Example usage\n",
    "text = \"Her appointment is on the 2nd of March, 2021..\"\n",
    "print(parse_date(text)) "
   ]
  },
  {
   "cell_type": "code",
   "execution_count": null,
   "id": "c0edda36-908e-4014-a785-618b3f8f3949",
   "metadata": {},
   "outputs": [],
   "source": []
  }
 ],
 "metadata": {
  "kernelspec": {
   "display_name": "Python 3 (ipykernel)",
   "language": "python",
   "name": "python3"
  },
  "language_info": {
   "codemirror_mode": {
    "name": "ipython",
    "version": 3
   },
   "file_extension": ".py",
   "mimetype": "text/x-python",
   "name": "python",
   "nbconvert_exporter": "python",
   "pygments_lexer": "ipython3",
   "version": "3.11.7"
  }
 },
 "nbformat": 4,
 "nbformat_minor": 5
}
